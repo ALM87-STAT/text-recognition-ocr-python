{
 "cells": [
  {
   "cell_type": "code",
   "execution_count": 1,
   "id": "5af134bc-ba00-440a-bf1c-48610f269737",
   "metadata": {},
   "outputs": [
    {
     "name": "stdout",
     "output_type": "stream",
     "text": [
      "Collecting easyocr\n",
      "  Downloading easyocr-1.3.2-py3-none-any.whl (63.2 MB)\n",
      "Requirement already satisfied: torch in c:\\users\\usuario\\anaconda3\\envs\\pytorch_p37\\lib\\site-packages (from easyocr) (1.8.1)\n",
      "Requirement already satisfied: torchvision>=0.5 in c:\\users\\usuario\\anaconda3\\envs\\pytorch_p37\\lib\\site-packages (from easyocr) (0.9.1)\n",
      "Collecting python-bidi\n",
      "  Using cached python_bidi-0.4.2-py2.py3-none-any.whl (30 kB)\n",
      "Requirement already satisfied: Pillow in c:\\users\\usuario\\anaconda3\\envs\\pytorch_p37\\lib\\site-packages (from easyocr) (8.3.1)\n",
      "Collecting scikit-image\n",
      "  Downloading scikit_image-0.18.2-cp37-cp37m-win_amd64.whl (12.1 MB)\n",
      "Collecting PyYAML\n",
      "  Downloading PyYAML-5.4.1-cp37-cp37m-win_amd64.whl (210 kB)\n",
      "Collecting opencv-python\n",
      "  Downloading opencv_python-4.5.2.54-cp37-cp37m-win_amd64.whl (34.7 MB)\n",
      "Collecting scipy\n",
      "  Downloading scipy-1.7.0-cp37-cp37m-win_amd64.whl (33.6 MB)\n",
      "Requirement already satisfied: numpy in c:\\users\\usuario\\anaconda3\\envs\\pytorch_p37\\lib\\site-packages (from easyocr) (1.19.5)\n",
      "Requirement already satisfied: typing_extensions in c:\\users\\usuario\\appdata\\roaming\\python\\python37\\site-packages (from torch->easyocr) (3.7.4.3)\n",
      "Requirement already satisfied: six in c:\\users\\usuario\\anaconda3\\envs\\pytorch_p37\\lib\\site-packages (from python-bidi->easyocr) (1.15.0)\n",
      "Collecting imageio>=2.3.0\n",
      "  Downloading imageio-2.9.0-py3-none-any.whl (3.3 MB)\n",
      "Collecting networkx>=2.0\n",
      "  Downloading networkx-2.6.1-py3-none-any.whl (1.9 MB)\n",
      "Collecting tifffile>=2019.7.26\n",
      "  Downloading tifffile-2021.7.2-py3-none-any.whl (169 kB)\n",
      "Collecting matplotlib!=3.0.0,>=2.0.0\n",
      "  Downloading matplotlib-3.4.2-cp37-cp37m-win_amd64.whl (7.1 MB)\n",
      "Collecting PyWavelets>=1.1.1\n",
      "  Downloading PyWavelets-1.1.1-cp37-cp37m-win_amd64.whl (4.2 MB)\n",
      "Collecting kiwisolver>=1.0.1\n",
      "  Using cached kiwisolver-1.3.1-cp37-cp37m-win_amd64.whl (51 kB)\n",
      "Requirement already satisfied: python-dateutil>=2.7 in c:\\users\\usuario\\anaconda3\\envs\\pytorch_p37\\lib\\site-packages (from matplotlib!=3.0.0,>=2.0.0->scikit-image->easyocr) (2.8.1)\n",
      "Requirement already satisfied: pyparsing>=2.2.1 in c:\\users\\usuario\\anaconda3\\envs\\pytorch_p37\\lib\\site-packages (from matplotlib!=3.0.0,>=2.0.0->scikit-image->easyocr) (2.4.7)\n",
      "Collecting cycler>=0.10\n",
      "  Using cached cycler-0.10.0-py2.py3-none-any.whl (6.5 kB)\n",
      "Collecting pandas>=1.1\n",
      "  Downloading pandas-1.3.0-cp37-cp37m-win_amd64.whl (10.0 MB)\n",
      "Requirement already satisfied: pytz>=2017.3 in c:\\users\\usuario\\anaconda3\\envs\\pytorch_p37\\lib\\site-packages (from pandas>=1.1->networkx>=2.0->scikit-image->easyocr) (2021.1)\n",
      "Installing collected packages: kiwisolver, cycler, scipy, pandas, matplotlib, tifffile, PyWavelets, networkx, imageio, scikit-image, PyYAML, python-bidi, opencv-python, easyocr\n",
      "Successfully installed PyWavelets-1.1.1 PyYAML-5.4.1 cycler-0.10.0 easyocr-1.3.2 imageio-2.9.0 kiwisolver-1.3.1 matplotlib-3.4.2 networkx-2.6.1 opencv-python-4.5.2.54 pandas-1.3.0 python-bidi-0.4.2 scikit-image-0.18.2 scipy-1.7.0 tifffile-2021.7.2\n",
      "Note: you may need to restart the kernel to use updated packages.\n"
     ]
    }
   ],
   "source": [
    "pip install easyocr"
   ]
  },
  {
   "cell_type": "code",
   "execution_count": 3,
   "id": "29a1ee9d-5704-41f8-8189-66e0ac0c45af",
   "metadata": {},
   "outputs": [],
   "source": [
    "import cv2\n",
    "import numpy as np\n",
    "import easyocr\n",
    "import matplotlib.pyplot as plt"
   ]
  },
  {
   "cell_type": "code",
   "execution_count": 13,
   "id": "31c6ea57-412f-42d8-ab0f-559b88fec280",
   "metadata": {},
   "outputs": [],
   "source": [
    "im_1_path = '.\\Desktop\\Carro.png'"
   ]
  },
  {
   "cell_type": "code",
   "execution_count": 14,
   "id": "993233e8-e528-47fd-b8e7-c952df121076",
   "metadata": {},
   "outputs": [],
   "source": [
    "def recognize_text(img_path):\n",
    "    '''loads an image and recognizes text.'''\n",
    "    \n",
    "    reader = easyocr.Reader(['en'])\n",
    "    return reader.readtext(img_path)"
   ]
  },
  {
   "cell_type": "code",
   "execution_count": 15,
   "id": "572b56ed-8629-4341-af1b-7f107fad9627",
   "metadata": {},
   "outputs": [],
   "source": [
    "result = recognize_text(im_1_path)"
   ]
  },
  {
   "cell_type": "code",
   "execution_count": 16,
   "id": "f017d362-6a31-4a23-a903-a787a1d32ab7",
   "metadata": {},
   "outputs": [
    {
     "data": {
      "text/plain": [
       "[([[4, 24], [314, 24], [314, 126], [4, 126]], 'ICKN:364/', 0.6594774016840137),\n",
       " ([[92, 120], [222, 120], [222, 152], [92, 152]],\n",
       "  'BOGOTa D.C;',\n",
       "  0.16860284841236897)]"
      ]
     },
     "execution_count": 16,
     "metadata": {},
     "output_type": "execute_result"
    }
   ],
   "source": [
    "result"
   ]
  },
  {
   "cell_type": "code",
   "execution_count": null,
   "id": "3c3c79a2-9b67-4439-9625-e8107f0b23f1",
   "metadata": {},
   "outputs": [],
   "source": [
    "def overlay_ocr_text(img_path, save_name):\n",
    "    '''loads an image, recognizes text, and overlays the text on the image.'''\n",
    "    \n",
    "    # loads image\n",
    "    img = cv2.imread(img_path)\n",
    "    img = cv2.cvtColor(img, cv2.COLOR_BGR2RGB)\n",
    "    \n",
    "    dpi = 1\n",
    "    fig_width, fig_height = int(img.shape[0]/dpi), int(img.shape[1]/dpi)\n",
    "    plt.figure()\n",
    "    f, axarr = plt.subplots(1,2, figsize=(fig_width, fig_height)) \n",
    "    axarr[0].imshow(img)\n",
    "    \n",
    "    # recognize text\n",
    "    result = recognize_text(img_path)\n",
    "\n",
    "    # if OCR prob is over 0.5, overlay bounding box and text\n",
    "    for (bbox, text, prob) in result:\n",
    "        if prob >= 0.5:\n",
    "            # display \n",
    "            print(f'Detected text: {text} (Probability: {prob:.2f})')\n",
    "\n",
    "            # get top-left and bottom-right bbox vertices\n",
    "            (top_left, top_right, bottom_right, bottom_left) = bbox\n",
    "            top_left = (int(top_left[0]), int(top_left[1]))\n",
    "            bottom_right = (int(bottom_right[0]), int(bottom_right[1]))\n",
    "\n",
    "            # create a rectangle for bbox display\n",
    "            cv2.rectangle(img=img, pt1=top_left, pt2=bottom_right, color=(255, 0, 0), thickness=5)\n",
    "\n",
    "            # put recognized text\n",
    "            cv2.putText(img=img, text=text, org=(top_left[0], top_left[1] - 10), fontFace=cv2.FONT_HERSHEY_SIMPLEX, fontScale=0.4, color=(255, 0, 0), thickness=1)\n",
    "        \n",
    "    # show and save image\n",
    "    axarr[1].imshow(img)\n",
    "    plt.savefig(f'.\\Desktop\\{save_name}_overlay.jpg', bbox_inches='tight')"
   ]
  },
  {
   "cell_type": "code",
   "execution_count": null,
   "id": "c93ac701-6f81-4564-b46a-4440f1ca811b",
   "metadata": {},
   "outputs": [],
   "source": [
    "overlay_ocr_text(im_1_path, '1_carplate')"
   ]
  }
 ],
 "metadata": {
  "kernelspec": {
   "display_name": "Python 3",
   "language": "python",
   "name": "python3"
  },
  "language_info": {
   "codemirror_mode": {
    "name": "ipython",
    "version": 3
   },
   "file_extension": ".py",
   "mimetype": "text/x-python",
   "name": "python",
   "nbconvert_exporter": "python",
   "pygments_lexer": "ipython3",
   "version": "3.7.10"
  }
 },
 "nbformat": 4,
 "nbformat_minor": 5
}
